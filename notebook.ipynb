{
 "cells": [
  {
   "cell_type": "code",
   "execution_count": 1,
   "metadata": {},
   "outputs": [
    {
     "name": "stderr",
     "output_type": "stream",
     "text": [
      "C:\\Users\\Monish\\AppData\\Local\\Temp\\ipykernel_15664\\1228117823.py:1: DeprecationWarning: \n",
      "Pyarrow will become a required dependency of pandas in the next major release of pandas (pandas 3.0),\n",
      "(to allow more performant data types, such as the Arrow string type, and better interoperability with other libraries)\n",
      "but was not found to be installed on your system.\n",
      "If this would cause problems for you,\n",
      "please provide us feedback at https://github.com/pandas-dev/pandas/issues/54466\n",
      "        \n",
      "  import pandas as pd\n"
     ]
    }
   ],
   "source": [
    "import pandas as pd \n",
    "import numpy as np "
   ]
  },
  {
   "cell_type": "code",
   "execution_count": 2,
   "metadata": {},
   "outputs": [],
   "source": [
    "from sklearn.cluster import KMeans"
   ]
  },
  {
   "cell_type": "code",
   "execution_count": 3,
   "metadata": {},
   "outputs": [
    {
     "name": "stderr",
     "output_type": "stream",
     "text": [
      "c:\\Users\\Monish\\AppData\\Local\\Programs\\Python\\Python312\\Lib\\site-packages\\sentence_transformers\\cross_encoder\\CrossEncoder.py:11: TqdmWarning: IProgress not found. Please update jupyter and ipywidgets. See https://ipywidgets.readthedocs.io/en/stable/user_install.html\n",
      "  from tqdm.autonotebook import tqdm, trange\n"
     ]
    }
   ],
   "source": [
    "from sentence_transformers import SentenceTransformer,util"
   ]
  },
  {
   "cell_type": "code",
   "execution_count": 4,
   "metadata": {},
   "outputs": [],
   "source": [
    "df=pd.read_csv(\"data.csv\")"
   ]
  },
  {
   "cell_type": "code",
   "execution_count": 5,
   "metadata": {},
   "outputs": [],
   "source": [
    "# Split the column by comma and strip whitespace\n",
    "df[['Text', 'Sentiment', 'Source', 'Date/Time', 'User ID', 'Location', 'Confidence Score']] = df[\"Text, Sentiment, Source, Date/Time, User ID, Location, Confidence Score\"].str.split(',', expand=True)\n",
    "\n",
    "# Remove leading and trailing whitespace from columns\n",
    "df = df.apply(lambda x: x.str.strip() if x.dtype == \"object\" else x)\n",
    "\n",
    "# Create the new 'feedback' column with 'Sentiment' values\n",
    "df['feedback'] = df['Text']\n",
    "\n",
    "# Drop the split columns to keep only original and new 'feedback' columns\n",
    "df = df.drop(columns=['Text', 'Sentiment', 'Source', 'Date/Time', 'User ID', 'Location', 'Confidence Score'])\n",
    "\n",
    "# Display the resulting DataFrame\n"
   ]
  },
  {
   "cell_type": "code",
   "execution_count": 6,
   "metadata": {},
   "outputs": [
    {
     "data": {
      "text/plain": [
       "2"
      ]
     },
     "execution_count": 6,
     "metadata": {},
     "output_type": "execute_result"
    }
   ],
   "source": [
    "df[\"feedback\"].isnull().sum()"
   ]
  },
  {
   "cell_type": "code",
   "execution_count": 7,
   "metadata": {},
   "outputs": [],
   "source": [
    "df = df.dropna(subset=['feedback'])"
   ]
  },
  {
   "cell_type": "code",
   "execution_count": 8,
   "metadata": {},
   "outputs": [],
   "source": [
    "feedback_list = df['feedback'].tolist()\n",
    "corpus=feedback_list"
   ]
  },
  {
   "cell_type": "code",
   "execution_count": null,
   "metadata": {},
   "outputs": [],
   "source": []
  },
  {
   "cell_type": "code",
   "execution_count": 9,
   "metadata": {},
   "outputs": [],
   "source": [
    "embedder = SentenceTransformer('all-MiniLM-L6-v2')"
   ]
  },
  {
   "cell_type": "code",
   "execution_count": 10,
   "metadata": {},
   "outputs": [],
   "source": [
    "corpus_embeddings=embedder.encode(corpus)"
   ]
  },
  {
   "cell_type": "code",
   "execution_count": 11,
   "metadata": {},
   "outputs": [],
   "source": [
    "corpus_embeddings=corpus_embeddings/np.linalg.norm(corpus_embeddings,axis=1,keepdims=True)"
   ]
  },
  {
   "cell_type": "code",
   "execution_count": 12,
   "metadata": {},
   "outputs": [
    {
     "data": {
      "text/plain": [
       "array([7, 5, 8, 5, 1, 9, 4, 2, 8, 5, 8, 9, 6, 1, 4, 2, 6, 0, 6, 5, 8, 5,\n",
       "       9, 0, 5, 6, 1, 4, 2, 6, 0, 4, 5, 1, 7, 8, 5, 5, 3, 1, 4, 2, 6, 0,\n",
       "       3, 5, 1, 8, 6, 5, 8, 9, 2, 5, 3, 5, 5, 1, 4, 2, 1, 9, 4, 2, 6, 0,\n",
       "       8, 1, 4, 2, 6, 7, 8, 5, 5, 5, 1, 4, 2, 7, 5, 8, 5, 1, 9, 4, 2, 8,\n",
       "       5, 8, 9, 6, 1, 4, 2, 6])"
      ]
     },
     "execution_count": 12,
     "metadata": {},
     "output_type": "execute_result"
    }
   ],
   "source": [
    "model=KMeans(n_clusters=10)\n",
    "model.fit(corpus_embeddings)\n",
    "cluster_assignment = model.labels_ \n",
    "cluster_assignment"
   ]
  },
  {
   "cell_type": "code",
   "execution_count": 13,
   "metadata": {},
   "outputs": [
    {
     "data": {
      "text/plain": [
       "{7: ['\"I love this product!\"',\n",
       "  '\"The product I purchased broke within a week. Poor quality.\"',\n",
       "  '\"The product I received was of poor quality. It broke after a few uses.\"',\n",
       "  '\"I love this product!\"'],\n",
       " 5: ['\"The service was terrible.\"',\n",
       "  '\"I\\'m so disappointed with their customer support.\"',\n",
       "  '\"The customer service was terrible.\"',\n",
       "  '\"I had a terrible experience with their customer support.\"',\n",
       "  '\"The customer service at this store is top-notch.\"',\n",
       "  '\"Just had the worst flight experience. Delayed and rude staff.\"',\n",
       "  '\"I had a great chat with their customer support. Helpful and friendly.\"',\n",
       "  '\"The customer service at this store is exceptional. They went above and beyond.\"',\n",
       "  '\"I had a terrible experience with their technical support. No resolution.\"',\n",
       "  '\"The customer support was quick to respond and resolved my issue. Impressed!\"',\n",
       "  '\"The customer service at this hotel was terrible. Avoid at all costs.\"',\n",
       "  '\"I had a terrible experience with their delivery service. Late and unprofessional.\"',\n",
       "  '\"I\\'m extremely disappointed with the customer support. No resolution.\"',\n",
       "  '\"The hotel staff were rude and unprofessional. Terrible customer service.\"',\n",
       "  '\"The customer service at this store is outstanding. They truly care about their customers.\"',\n",
       "  '\"I had a frustrating experience with their technical support. No resolution provided.\"',\n",
       "  '\"The hotel staff were rude and unprofessional. Terrible customer service.\"',\n",
       "  '\"The service was terrible.\"',\n",
       "  '\"I\\'m so disappointed with their customer support.\"',\n",
       "  '\"The customer service was terrible.\"'],\n",
       " 8: ['\"This movie is amazing!\"',\n",
       "  '\"I loved the movie! It was fantastic!\"',\n",
       "  '\"This book made me feel inspired. Highly recommended!\"',\n",
       "  '\"This movie is a masterpiece! I was blown away.\"',\n",
       "  '\"This book is thought-provoking and beautifully written. Highly recommended!\"',\n",
       "  '\"The plot of this movie is confusing and hard to follow.\"',\n",
       "  '\"This book bored me to tears. I couldn\\'t finish it.\"',\n",
       "  '\"I\\'m in awe of this artist\\'s talent. Their paintings are breathtaking!\"',\n",
       "  '\"This book kept me hooked from start to finish. A captivating read!\"',\n",
       "  '\"This movie is amazing!\"',\n",
       "  '\"I loved the movie! It was fantastic!\"',\n",
       "  '\"This book made me feel inspired. Highly recommended!\"'],\n",
       " 1: ['\"Just had the best meal of my life!\"',\n",
       "  '\"The food at this restaurant was awful. Never going back again!\"',\n",
       "  '\"The food at this restaurant was outstanding. Highly recommended!\"',\n",
       "  '\"This restaurant has the most delicious food. I can\\'t wait to go back!\"',\n",
       "  '\"I\\'m disappointed with the food at this restaurant. It was tasteless.\"',\n",
       "  '\"This restaurant has the best food. I highly recommend it!\"',\n",
       "  '\"The food at this restaurant was mediocre. Nothing special.\"',\n",
       "  '\"The food at this cafe exceeded my expectations. Absolutely delicious!\"',\n",
       "  '\"The food at this restaurant was disappointing. Not worth the price.\"',\n",
       "  '\"The food at this restaurant was mediocre. Nothing special.\"',\n",
       "  '\"Just had the best meal of my life!\"',\n",
       "  '\"The food at this restaurant was awful. Never going back again!\"'],\n",
       " 9: ['\"The quality of this product is subpar.\"',\n",
       "  '\"I\\'m extremely disappointed with their product quality.\"',\n",
       "  '\"I\\'m disappointed with the ending of this book. It fell flat.\"',\n",
       "  '\"I\\'m impressed with the sound quality of these headphones. Excellent!\"',\n",
       "  '\"I\\'m disappointed with the ending of this TV show. It left too many unanswered questions.\"',\n",
       "  '\"The quality of this product is subpar.\"',\n",
       "  '\"I\\'m extremely disappointed with their product quality.\"'],\n",
       " 4: ['\"I can\\'t stop listening to this song. It\\'s incredible!\"',\n",
       "  '\"I can\\'t stop listening to this song. It\\'s my new favorite!\"',\n",
       "  '\"This playlist is my go-to for workouts. Energizing and motivating!\"',\n",
       "  '\"I can\\'t get enough of this band. Their music is incredible!\"',\n",
       "  '\"This song always puts me in a good mood. It\\'s my go-to feel-good track!\"',\n",
       "  '\"This song always puts me in a nostalgic mood. It reminds me of good times.\"',\n",
       "  '\"This album is a masterpiece. Every song is a work of art!\"',\n",
       "  '\"This playlist is perfect for relaxation. Soothing and calming!\"',\n",
       "  '\"This song always puts me in a nostalgic mood. It reminds me of good times.\"',\n",
       "  '\"I can\\'t stop listening to this song. It\\'s incredible!\"',\n",
       "  '\"I can\\'t stop listening to this song. It\\'s my new favorite!\"'],\n",
       " 2: ['\"Their website is so user-friendly. Love it!\"',\n",
       "  '\"Their website is so confusing and poorly designed.\"',\n",
       "  '\"I had a frustrating experience navigating through their website.\"',\n",
       "  '\"The website is slow and unresponsive. Difficult to navigate.\"',\n",
       "  '\"The website design is sleek and user-friendly. Easy to navigate.\"',\n",
       "  '\"The website loading speed is frustratingly slow. Needs improvement.\"',\n",
       "  '\"The website layout is cluttered and confusing. Difficult to find information.\"',\n",
       "  '\"The website navigation is smooth and intuitive. I found what I needed quickly.\"',\n",
       "  '\"The website loading speed is frustratingly slow. Needs improvement.\"',\n",
       "  '\"Their website is so user-friendly. Love it!\"',\n",
       "  '\"Their website is so confusing and poorly designed.\"'],\n",
       " 6: ['\"Just had the most amazing vacation! I can\\'t wait to go back.\"',\n",
       "  '\"I had an incredible experience at the theme park. So much fun!\"',\n",
       "  '\"The concert was absolutely breathtaking. Best performance ever!\"',\n",
       "  '\"The hotel stay was absolutely amazing! Luxury at its finest.\"',\n",
       "  '\"The roller coaster ride was thrilling! Heart-pounding excitement!\"',\n",
       "  '\"The roller coaster ride was exhilarating! Pure adrenaline rush!\"',\n",
       "  '\"I\\'m addicted to this game. It\\'s so much fun!\"',\n",
       "  '\"The roller coaster at this theme park is a thrilling experience. A must-try!\"',\n",
       "  '\"The ride on this cruise ship was an unforgettable experience. I loved every moment!\"',\n",
       "  '\"Just had the most amazing vacation! I can\\'t wait to go back.\"',\n",
       "  '\"I had an incredible experience at the theme park. So much fun!\"'],\n",
       " 0: ['\"The product arrived damaged. Very disappointed.\"',\n",
       "  '\"The product I received was damaged. Unacceptable.\"',\n",
       "  '\"The product I ordered never arrived. Terrible service.\"',\n",
       "  '\"The product I ordered arrived damaged. Very disappointed with the packaging.\"',\n",
       "  '\"The product I ordered never arrived. Poor customer service.\"'],\n",
       " 3: ['\"The live concert was electrifying! The band\\'s energy was contagious.\"',\n",
       "  '\"I\\'m captivated by this band\\'s unique sound. They\\'re a breath of fresh air!\"',\n",
       "  '\"The concert was mind-blowing! The band knows how to put on a show.\"']}"
      ]
     },
     "execution_count": 13,
     "metadata": {},
     "output_type": "execute_result"
    }
   ],
   "source": [
    "cluster_sentence={}\n",
    "for sentence_id,cluster_id in enumerate(cluster_assignment):\n",
    "    if cluster_id not in cluster_sentence:\n",
    "        cluster_sentence[cluster_id] =[]\n",
    "    cluster_sentence[cluster_id].append(corpus[sentence_id])\n",
    "    \n",
    "    \n",
    "cluster_sentence"
   ]
  },
  {
   "cell_type": "code",
   "execution_count": 14,
   "metadata": {},
   "outputs": [],
   "source": [
    "\n",
    "\n",
    "# # Load the model\n",
    "# model = SentenceTransformer('all-MiniLM-L6-v2')\n",
    "\n",
    "# # Define some sentences\n",
    "# sentences = [\"This is an example sentence\", \"Each sentence is converted\"]\n",
    "\n",
    "# # Generate embeddings\n",
    "# embeddings = model.encode(sentences)\n",
    "\n",
    "# # Print the embeddings\n",
    "# for sentence, embedding in zip(sentences, embeddings):\n",
    "#     print(f\"Sentence: {sentence}\")\n",
    "#     print(f\"Embedding: {embedding}\\n\")\n"
   ]
  },
  {
   "cell_type": "markdown",
   "metadata": {},
   "source": [
    "****"
   ]
  },
  {
   "cell_type": "code",
   "execution_count": 15,
   "metadata": {},
   "outputs": [],
   "source": [
    "import pandas as pd\n",
    "import numpy as np\n",
    "import matplotlib.pyplot as plt\n",
    "from sklearn.cluster import KMeans\n",
    "from sklearn.metrics import silhouette_score\n",
    "from sentence_transformers import SentenceTransformer"
   ]
  },
  {
   "cell_type": "code",
   "execution_count": 16,
   "metadata": {},
   "outputs": [],
   "source": [
    "df = pd.read_csv(\"data.csv\")\n",
    "\n",
    "# Split the column by comma and strip whitespace\n",
    "df[['Text', 'Sentiment', 'Source', 'Date/Time', 'User ID', 'Location', 'Confidence Score']] = df[\"Text, Sentiment, Source, Date/Time, User ID, Location, Confidence Score\"].str.split(',', expand=True)\n",
    "\n",
    "# Remove leading and trailing whitespace from columns\n",
    "df = df.apply(lambda x: x.str.strip() if x.dtype == \"object\" else x)\n",
    "\n",
    "# Create the new 'feedback' column with 'Sentiment' values\n",
    "df['feedback'] = df['Text']\n",
    "\n",
    "# Drop the split columns to keep only original and new 'feedback' columns\n",
    "df = df.drop(columns=['Text', 'Sentiment', 'Source', 'Date/Time', 'User ID', 'Location', 'Confidence Score'])\n",
    "\n",
    "# Drop rows with NaN values in 'feedback' column\n",
    "df = df.dropna(subset=['feedback'])\n",
    "\n",
    "# Collect all rows of the feedback column into a single list\n",
    "feedback_list = df['feedback'].tolist()"
   ]
  },
  {
   "cell_type": "code",
   "execution_count": 17,
   "metadata": {},
   "outputs": [],
   "source": [
    "# Sentence embedding\n",
    "embedder = SentenceTransformer('all-MiniLM-L6-v2')\n",
    "corpus_embeddings = embedder.encode(feedback_list)\n",
    "corpus_embeddings = corpus_embeddings / np.linalg.norm(corpus_embeddings, axis=1, keepdims=True)\n"
   ]
  },
  {
   "cell_type": "code",
   "execution_count": 18,
   "metadata": {},
   "outputs": [
    {
     "data": {
      "image/png": "[encoded data removed]",
      "text/plain": [
       "<Figure size 1000x500 with 2 Axes>"
      ]
     },
     "metadata": {},
     "output_type": "display_data"
    }
   ],
   "source": [
    "# Determine the optimal number of clusters using the Elbow Method and Silhouette Score\n",
    "inertia = []\n",
    "silhouette_scores = []\n",
    "range_n_clusters = range(2, 15)\n",
    "\n",
    "for n_clusters in range_n_clusters:\n",
    "    model = KMeans(n_clusters=n_clusters, random_state=42)\n",
    "    model.fit(corpus_embeddings)\n",
    "    cluster_labels = model.labels_\n",
    "    inertia.append(model.inertia_)\n",
    "    silhouette_avg = silhouette_score(corpus_embeddings, cluster_labels)\n",
    "    silhouette_scores.append(silhouette_avg)\n",
    "\n",
    "# Plot the Elbow Method\n",
    "plt.figure(figsize=(10, 5))\n",
    "plt.subplot(1, 2, 1)\n",
    "plt.plot(range_n_clusters, inertia, 'bx-')\n",
    "plt.xlabel('Number of clusters')\n",
    "plt.ylabel('Inertia')\n",
    "plt.title('Elbow Method for Optimal k')\n",
    "\n",
    "# Plot the Silhouette Score\n",
    "plt.subplot(1, 2, 2)\n",
    "plt.plot(range_n_clusters, silhouette_scores, 'bx-')\n",
    "plt.xlabel('Number of clusters')\n",
    "plt.ylabel('Silhouette Score')\n",
    "plt.title('Silhouette Score for Optimal k')\n",
    "\n",
    "plt.tight_layout()\n",
    "plt.show()"
   ]
  },
  {
   "cell_type": "code",
   "execution_count": 19,
   "metadata": {},
   "outputs": [],
   "source": [
    "# Choose the optimal number of clusters based on the Elbow Method and Silhouette Score\n",
    "optimal_n_clusters = range_n_clusters[silhouette_scores.index(max(silhouette_scores))]"
   ]
  },
  {
   "cell_type": "code",
   "execution_count": 20,
   "metadata": {},
   "outputs": [],
   "source": [
    "# Fit the KMeans model with the optimal number of clusters\n",
    "model = KMeans(n_clusters=optimal_n_clusters, random_state=42)\n",
    "model.fit(corpus_embeddings)\n",
    "cluster_assignment = model.labels_"
   ]
  },
  {
   "cell_type": "code",
   "execution_count": 21,
   "metadata": {},
   "outputs": [
    {
     "data": {
      "text/plain": [
       "{8: ['\"I love this product!\"',\n",
       "  '\"The product arrived damaged. Very disappointed.\"',\n",
       "  '\"The product I received was damaged. Unacceptable.\"',\n",
       "  '\"The product I ordered never arrived. Terrible service.\"',\n",
       "  '\"The product I purchased broke within a week. Poor quality.\"',\n",
       "  '\"The product I ordered arrived damaged. Very disappointed with the packaging.\"',\n",
       "  '\"The product I ordered never arrived. Poor customer service.\"',\n",
       "  '\"The product I received was of poor quality. It broke after a few uses.\"',\n",
       "  '\"I love this product!\"'],\n",
       " 7: ['\"The service was terrible.\"',\n",
       "  '\"The customer service was terrible.\"',\n",
       "  '\"Just had the worst flight experience. Delayed and rude staff.\"',\n",
       "  '\"The customer service at this hotel was terrible. Avoid at all costs.\"',\n",
       "  '\"The hotel staff were rude and unprofessional. Terrible customer service.\"',\n",
       "  '\"The hotel staff were rude and unprofessional. Terrible customer service.\"',\n",
       "  '\"The service was terrible.\"',\n",
       "  '\"The customer service was terrible.\"'],\n",
       " 11: ['\"This movie is amazing!\"',\n",
       "  '\"I loved the movie! It was fantastic!\"',\n",
       "  '\"The concert was absolutely breathtaking. Best performance ever!\"',\n",
       "  '\"The hotel stay was absolutely amazing! Luxury at its finest.\"',\n",
       "  '\"The plot of this movie is confusing and hard to follow.\"',\n",
       "  '\"The concert was mind-blowing! The band knows how to put on a show.\"',\n",
       "  '\"I\\'m in awe of this artist\\'s talent. Their paintings are breathtaking!\"',\n",
       "  '\"This movie is amazing!\"',\n",
       "  '\"I loved the movie! It was fantastic!\"'],\n",
       " 2: ['\"I\\'m so disappointed with their customer support.\"',\n",
       "  '\"I had a terrible experience with their customer support.\"',\n",
       "  '\"The customer service at this store is top-notch.\"',\n",
       "  '\"I had a great chat with their customer support. Helpful and friendly.\"',\n",
       "  '\"The customer service at this store is exceptional. They went above and beyond.\"',\n",
       "  '\"I had a terrible experience with their technical support. No resolution.\"',\n",
       "  '\"The customer support was quick to respond and resolved my issue. Impressed!\"',\n",
       "  '\"I had a terrible experience with their delivery service. Late and unprofessional.\"',\n",
       "  '\"I\\'m extremely disappointed with the customer support. No resolution.\"',\n",
       "  '\"The customer service at this store is outstanding. They truly care about their customers.\"',\n",
       "  '\"I had a frustrating experience with their technical support. No resolution provided.\"',\n",
       "  '\"I\\'m so disappointed with their customer support.\"'],\n",
       " 1: ['\"Just had the best meal of my life!\"',\n",
       "  '\"The food at this restaurant was awful. Never going back again!\"',\n",
       "  '\"The food at this restaurant was outstanding. Highly recommended!\"',\n",
       "  '\"This restaurant has the most delicious food. I can\\'t wait to go back!\"',\n",
       "  '\"I\\'m disappointed with the food at this restaurant. It was tasteless.\"',\n",
       "  '\"This restaurant has the best food. I highly recommend it!\"',\n",
       "  '\"The food at this restaurant was mediocre. Nothing special.\"',\n",
       "  '\"The food at this cafe exceeded my expectations. Absolutely delicious!\"',\n",
       "  '\"The food at this restaurant was disappointing. Not worth the price.\"',\n",
       "  '\"The food at this restaurant was mediocre. Nothing special.\"',\n",
       "  '\"Just had the best meal of my life!\"',\n",
       "  '\"The food at this restaurant was awful. Never going back again!\"'],\n",
       " 10: ['\"The quality of this product is subpar.\"',\n",
       "  '\"I\\'m extremely disappointed with their product quality.\"',\n",
       "  '\"I\\'m impressed with the sound quality of these headphones. Excellent!\"',\n",
       "  '\"The quality of this product is subpar.\"',\n",
       "  '\"I\\'m extremely disappointed with their product quality.\"'],\n",
       " 3: ['\"I can\\'t stop listening to this song. It\\'s incredible!\"',\n",
       "  '\"I can\\'t stop listening to this song. It\\'s my new favorite!\"',\n",
       "  '\"This playlist is my go-to for workouts. Energizing and motivating!\"',\n",
       "  '\"I can\\'t get enough of this band. Their music is incredible!\"',\n",
       "  '\"This song always puts me in a good mood. It\\'s my go-to feel-good track!\"',\n",
       "  '\"I\\'m captivated by this band\\'s unique sound. They\\'re a breath of fresh air!\"',\n",
       "  '\"I\\'m addicted to this game. It\\'s so much fun!\"',\n",
       "  '\"This song always puts me in a nostalgic mood. It reminds me of good times.\"',\n",
       "  '\"This album is a masterpiece. Every song is a work of art!\"',\n",
       "  '\"This playlist is perfect for relaxation. Soothing and calming!\"',\n",
       "  '\"This song always puts me in a nostalgic mood. It reminds me of good times.\"',\n",
       "  '\"I can\\'t stop listening to this song. It\\'s incredible!\"',\n",
       "  '\"I can\\'t stop listening to this song. It\\'s my new favorite!\"'],\n",
       " 12: ['\"Their website is so user-friendly. Love it!\"',\n",
       "  '\"Their website is so confusing and poorly designed.\"',\n",
       "  '\"I had a frustrating experience navigating through their website.\"',\n",
       "  '\"The website design is sleek and user-friendly. Easy to navigate.\"',\n",
       "  '\"The website layout is cluttered and confusing. Difficult to find information.\"',\n",
       "  '\"The website navigation is smooth and intuitive. I found what I needed quickly.\"',\n",
       "  '\"Their website is so user-friendly. Love it!\"',\n",
       "  '\"Their website is so confusing and poorly designed.\"'],\n",
       " 0: ['\"This book made me feel inspired. Highly recommended!\"',\n",
       "  '\"This book is thought-provoking and beautifully written. Highly recommended!\"',\n",
       "  '\"This book kept me hooked from start to finish. A captivating read!\"',\n",
       "  '\"This book made me feel inspired. Highly recommended!\"'],\n",
       " 9: ['\"Just had the most amazing vacation! I can\\'t wait to go back.\"',\n",
       "  '\"Just had the most amazing vacation! I can\\'t wait to go back.\"'],\n",
       " 6: ['\"I had an incredible experience at the theme park. So much fun!\"',\n",
       "  '\"The roller coaster ride was thrilling! Heart-pounding excitement!\"',\n",
       "  '\"The live concert was electrifying! The band\\'s energy was contagious.\"',\n",
       "  '\"The roller coaster ride was exhilarating! Pure adrenaline rush!\"',\n",
       "  '\"The roller coaster at this theme park is a thrilling experience. A must-try!\"',\n",
       "  '\"The ride on this cruise ship was an unforgettable experience. I loved every moment!\"',\n",
       "  '\"I had an incredible experience at the theme park. So much fun!\"'],\n",
       " 4: ['\"This movie is a masterpiece! I was blown away.\"'],\n",
       " 13: ['\"I\\'m disappointed with the ending of this book. It fell flat.\"',\n",
       "  '\"This book bored me to tears. I couldn\\'t finish it.\"',\n",
       "  '\"I\\'m disappointed with the ending of this TV show. It left too many unanswered questions.\"'],\n",
       " 5: ['\"The website is slow and unresponsive. Difficult to navigate.\"',\n",
       "  '\"The website loading speed is frustratingly slow. Needs improvement.\"',\n",
       "  '\"The website loading speed is frustratingly slow. Needs improvement.\"']}"
      ]
     },
     "execution_count": 21,
     "metadata": {},
     "output_type": "execute_result"
    }
   ],
   "source": [
    "# Organize sentences by their cluster assignment\n",
    "cluster_sentence = {}\n",
    "for sentence_id, cluster_id in enumerate(cluster_assignment):\n",
    "    if cluster_id not in cluster_sentence:\n",
    "        cluster_sentence[cluster_id] = []\n",
    "    cluster_sentence[cluster_id].append(feedback_list[sentence_id])\n",
    "\n",
    "# Display the clustered sentences\n",
    "cluster_sentence"
   ]
  },
  {
   "cell_type": "code",
   "execution_count": null,
   "metadata": {},
   "outputs": [],
   "source": []
  }
 ],
 "metadata": {
  "kernelspec": {
   "display_name": "Python 3",
   "language": "python",
   "name": "python3"
  },
  "language_info": {
   "codemirror_mode": {
    "name": "ipython",
    "version": 3
   },
   "file_extension": ".py",
   "mimetype": "text/x-python",
   "name": "python",
   "nbconvert_exporter": "python",
   "pygments_lexer": "ipython3",
   "version": "3.12.2"
  }
 },
 "nbformat": 4,
 "nbformat_minor": 2
}
